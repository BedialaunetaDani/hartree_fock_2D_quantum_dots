{
 "cells": [
  {
   "cell_type": "code",
   "execution_count": 1,
   "metadata": {},
   "outputs": [],
   "source": [
    "import lib\n",
    "import numpy as np\n",
    "from scipy import special\n",
    "import os\n",
    "import matplotlib.pyplot as plt"
   ]
  },
  {
   "cell_type": "markdown",
   "metadata": {},
   "source": [
    "# Hartree Fock computation of the ground state of Quantum Dots\n",
    "\n",
    "In this Jupyter Notebook we are going to study the groundstate of an N electron Quantum Dot. Our intention is to study how the chemical potential has jumps when shells are added (1s,2s2p). In both cases, the Self-Consistent Field method is used.\n",
    "\n",
    "### Basis functions\n",
    "First we write the basis we are going to use, i.e., the 3D eigenfunctions of the harmonic oscillator."
   ]
  },
  {
   "cell_type": "code",
   "execution_count": 2,
   "metadata": {},
   "outputs": [],
   "source": [
    "lz = 0.5\n",
    "lx = 0.75\n",
    "\n",
    "OMEGA_X = 1/lx**2\n",
    "OMEGA_Z = 1/lz**2\n",
    "\n",
    "def Hermite_pol(x, n):\n",
    "    \"\"\"\n",
    "    Evaluates the Hermite polynomial of order n at x.\n",
    "\n",
    "    Parameters\n",
    "    ==========\n",
    "    x : float or np.ndarray\n",
    "        Values in which to evaluate the Hermite polynomial\n",
    "    n : int\n",
    "        Oder of the Hermite polynomial\n",
    "\n",
    "    Returns\n",
    "    =======\n",
    "    float or np.ndarray\n",
    "    \"\"\"\n",
    "    return special.eval_hermite(n, x)\n",
    "\n",
    "def HO_wf(x, n, omega=OMEGA_X):\n",
    "    \"\"\"\n",
    "    Evaluates the n^th eigenfunction of the Harmonic Oscillator at x.\n",
    "    The units of x are sqrt(hbar/m*omega). \n",
    "\n",
    "    Parameters\n",
    "    ==========\n",
    "    x : float or np.ndarray(N)\n",
    "        Values in which to evaluate eigenfunction\n",
    "    n : int\n",
    "        Number of the eigenfunction\n",
    "    omega : float\n",
    "        Angular frequency of the Harmonic Oscillator\n",
    "\n",
    "    Returns\n",
    "    =======\n",
    "    float or np.ndarray(N)\n",
    "    \"\"\"\n",
    "    #return omega**0.25 * Hermite_pol(np.sqrt(omega)*x, n) * np.exp(-omega*x**2 / 2) / np.sqrt(2**n * np.math.factorial(n) * np.sqrt(np.pi))\n",
    "    return omega**0.25 * Hermite_pol(np.sqrt(omega)*x, n) / np.sqrt(2**n * np.math.factorial(n) * np.sqrt(np.pi))\n",
    "\n",
    "def HO_wf_3D(x, y, z, nx, ny, nz, omega_x=OMEGA_X, omega_y=OMEGA_X, omega_z=OMEGA_Z):\n",
    "    \"\"\"\n",
    "    Evaluates the n^th eigenfunction of the (anisotropic) Harmonic Oscillator at x,y,z.\n",
    "    The units of x,y,z are sqrt(hbar/m*omega). \n",
    "\n",
    "    Parameters\n",
    "    ==========\n",
    "    x, y, z : float or np.ndarray(N)\n",
    "        Position in which to evaluate the wave function\n",
    "    nx, ny, nz : int\n",
    "        Number of the eigenfunction for each cartesian coordinate\n",
    "    omega_x, omega_y, omega_z : float\n",
    "        Harmonic osciallation constant for each cartesian coordinate\n",
    "\n",
    "    Returns\n",
    "    =======\n",
    "    float or np.ndarray(N)\n",
    "    \"\"\"\n",
    "    return HO_wf(x, nx, omega=omega_x)*HO_wf(y, ny, omega=omega_y)*HO_wf(z, nz, omega=omega_z)\n",
    "\n",
    "def index_to_q_numbers(k):\n",
    "    \"\"\"\n",
    "    Returns the quantum numbers nx, ny, nz associated with the basis index k\n",
    "\n",
    "    Parameters\n",
    "    ----------\n",
    "    k: int\n",
    "        Index of the basis from 0 to 13\n",
    "\n",
    "    Returns\n",
    "    ----------\n",
    "    nz ,ny, nz : int \n",
    "        Quantum numbers\n",
    "    \"\"\"\n",
    "\n",
    "    #q_numbers = np.array([(0,0,0),(0,0,1),(0,1,0),(1,0,0),(0,1,1),(1,0,1),(1,1,0),(1,1,1),(1,1,2),(1,2,1),(2,1,1),(1,2,2),(2,1,2),(2,2,1)])\n",
    "    q_numbers = np.array([(0,0,0),(0,1,0),(1,0,0),(1,1,0),(2,0,0),(0,2,0),(2,1,0),(1,2,0),(3,0,0),(0,3,0),(2,2,0),(2,2,0),(3,1,0),(1,3,0)])\n",
    "\n",
    "    return q_numbers[k]"
   ]
  },
  {
   "cell_type": "markdown",
   "metadata": {},
   "source": [
    "We now write the functions to calculate the integrands of the two-body integrals"
   ]
  },
  {
   "cell_type": "code",
   "execution_count": 3,
   "metadata": {},
   "outputs": [],
   "source": [
    "def integrand_2(R, p, r, q, s):\n",
    "    r1 = R[:,0:3]\n",
    "    r2 = R[:,3:6]\n",
    "    r12 = np.sqrt(np.sum((r1 - r2)**2, axis=-1))\n",
    "    \n",
    "    x1 = R[:,0]\n",
    "    y1 = R[:,1]\n",
    "    z1 = R[:,2]\n",
    "    x2 = R[:,3]\n",
    "    y2 = R[:,4]\n",
    "    z2 = R[:,5]\n",
    "    \n",
    "    n_p = index_to_q_numbers(p-1)\n",
    "    n_r = index_to_q_numbers(r-1)\n",
    "    n_q = index_to_q_numbers(q-1)\n",
    "    n_s = index_to_q_numbers(s-1)\n",
    "    \n",
    "    result = 1/r12\n",
    "    \n",
    "    result *= HO_wf_3D(x1, y1, z1, n_p[0], n_p[1], n_p[2])\n",
    "    result *= HO_wf_3D(x2, y2, z2, n_r[0], n_r[1], n_r[2])\n",
    "    result *= HO_wf_3D(x1, y1, z1, n_q[0], n_q[1], n_q[2])\n",
    "    result *= HO_wf_3D(x2, y2, z2, n_s[0], n_s[1], n_s[2])\n",
    "  \n",
    "    \n",
    "    return result\n",
    "\n",
    "def norm_product(p, r, q, s):\n",
    "    return (np.pi/OMEGA_X)**2 * np.pi/OMEGA_Z\n",
    "\n",
    "def two_body_integrand(p, r, q, s):\n",
    "    f = lambda R: integrand_2(R, p, r, q, s)*norm_product(p, r, q, s)\n",
    "    \n",
    "    return f"
   ]
  },
  {
   "cell_type": "markdown",
   "metadata": {},
   "source": [
    "### One- and two- body integral computations\n",
    "We first initialize some necessary parameters"
   ]
  },
  {
   "cell_type": "code",
   "execution_count": 4,
   "metadata": {},
   "outputs": [],
   "source": [
    "N_electrons = 2\n",
    "N_basis = 14\n",
    "N_points = 1000000\n",
    "integrals_file = \"integrals/integrals_QD_14nz0.npy\"\n",
    "\n",
    "normalized_wf = True\n",
    "\n",
    "max_iter_SCF = 500\n",
    "eps_SCF = 1e-4\n",
    "Delta_SCF = 0"
   ]
  },
  {
   "cell_type": "markdown",
   "metadata": {},
   "source": [
    "The exact one-body integral function is"
   ]
  },
  {
   "cell_type": "code",
   "execution_count": 5,
   "metadata": {},
   "outputs": [],
   "source": [
    "def analytical_1(p,q):\n",
    "    n_p = index_to_q_numbers(p-1)\n",
    "    I = (p==q)*(OMEGA_X*(n_p[0] + n_p[1] + 1) + OMEGA_Z*(n_p[2] + 0.5))\n",
    "    \n",
    "    return I"
   ]
  },
  {
   "cell_type": "markdown",
   "metadata": {},
   "source": [
    "The covariance function for the exponents of the gaussians is"
   ]
  },
  {
   "cell_type": "code",
   "execution_count": 6,
   "metadata": {},
   "outputs": [],
   "source": [
    "def f_cov(p, r, q, s):\n",
    "    \n",
    "    cov = 0.5*np.diag([1/OMEGA_X, 1/OMEGA_X, 1/OMEGA_Z, 1/OMEGA_X, 1/OMEGA_X, 1/OMEGA_Z])\n",
    "    \n",
    "    return cov"
   ]
  },
  {
   "cell_type": "markdown",
   "metadata": {},
   "source": [
    "We then calculate and store the one- and two-body integrals using lib.py"
   ]
  },
  {
   "cell_type": "code",
   "execution_count": 7,
   "metadata": {},
   "outputs": [
    {
     "name": "stdout",
     "output_type": "stream",
     "text": [
      "Calculating two electron integrals: 1/14\n",
      "Calculating two electron integrals: 2/14\n",
      "Calculating two electron integrals: 3/14\n",
      "Calculating two electron integrals: 4/14\n",
      "Calculating two electron integrals: 5/14\n",
      "Calculating two electron integrals: 6/14\n",
      "Calculating two electron integrals: 7/14\n",
      "Calculating two electron integrals: 8/14\n",
      "Calculating two electron integrals: 9/14\n",
      "Calculating two electron integrals: 10/14\n",
      "Calculating two electron integrals: 11/14\n",
      "Calculating two electron integrals: 12/14\n",
      "Calculating two electron integrals: 13/14\n",
      "Calculating two electron integrals: 14/14\n"
     ]
    }
   ],
   "source": [
    "# One- and Two-body integrals\n",
    "MC_args = {\"f_cov\":f_cov, \"f_integrand\":two_body_integrand, \"N_points\":N_points}\n",
    "integrals = lib.integral_master(N_basis)\n",
    "integrals.calculate(integrals_file, analytical_1, MC_args = MC_args)"
   ]
  },
  {
   "cell_type": "markdown",
   "metadata": {},
   "source": [
    "We calculate the overlap matrix S"
   ]
  },
  {
   "cell_type": "code",
   "execution_count": 8,
   "metadata": {},
   "outputs": [],
   "source": [
    "if not normalized_wf:\n",
    "    S = np.zeros((4,4))\n",
    "    for p in range(4):\n",
    "        for q in range(4):\n",
    "            S[p][q] = (np.pi/(ALPHA[p]+ALPHA[q]))**(1.5)\n",
    "    SVAL, SVEC = np.linalg.eigh(S) \n",
    "    SVAL_minhalf = (np.diag(SVAL**(-0.5))) \n",
    "    X = np.dot(SVEC, np.dot(SVAL_minhalf, np.transpose(SVEC)))\n",
    "else:\n",
    "    S = np.eye(N_basis)"
   ]
  },
  {
   "cell_type": "markdown",
   "metadata": {},
   "source": [
    "Finally, we run the Self-Consistent Field for Hartree Fock"
   ]
  },
  {
   "cell_type": "code",
   "execution_count": 9,
   "metadata": {
    "scrolled": true
   },
   "outputs": [
    {
     "name": "stdout",
     "output_type": "stream",
     "text": [
      "E = 4.7735114 | N(SCF) = 1\n",
      "E = 7.6991238 | N(SCF) = 2\n",
      "E = 8.6360124 | N(SCF) = 3\n",
      "E = 8.7140220 | N(SCF) = 4\n",
      "E = 8.7335401 | N(SCF) = 5\n",
      "E = 8.8241742 | N(SCF) = 6\n",
      "E = 9.0630186 | N(SCF) = 7\n",
      "E = 8.7972728 | N(SCF) = 8\n",
      "E = 8.9477332 | N(SCF) = 9\n",
      "SCF CONVERGED! E = 8.9477332429\n"
     ]
    },
    {
     "data": {
      "text/plain": [
       "8.94773324287041"
      ]
     },
     "execution_count": 9,
     "metadata": {},
     "output_type": "execute_result"
    }
   ],
   "source": [
    "lib.SCF(N_electrons, integrals, S, max_iter_SCF, eps_SCF)"
   ]
  },
  {
   "cell_type": "markdown",
   "metadata": {},
   "source": [
    "Now we compute the energies from electron pairs up to 14 electrons (limited by our basis)"
   ]
  },
  {
   "cell_type": "code",
   "execution_count": 82,
   "metadata": {},
   "outputs": [
    {
     "name": "stdout",
     "output_type": "stream",
     "text": [
      "Computing energy for N_electrons =  2 \n",
      "E(2)= 8.71269978916053\n",
      "Computing energy for N_electrons =  4 \n",
      "E(4)= 16.202846539646167\n",
      "Computing energy for N_electrons =  6 \n",
      "E(6)= 22.935956737937353\n",
      "Computing energy for N_electrons =  8 \n",
      "E(8)= 32.99520206245607\n",
      "Computing energy for N_electrons =  10 \n",
      "E(10)= 41.63587893171656\n",
      "Computing energy for N_electrons =  12 \n",
      "E(12)= 52.01394107684339\n",
      "Computing energy for N_electrons =  14 \n",
      "E(14)= 64.34117491082426\n",
      "[ 0.          0.          8.71269979  0.         16.20284654  0.\n",
      " 22.93595674  0.         32.99520206  0.         41.63587893  0.\n",
      " 52.01394108  0.         64.34117491]\n"
     ]
    }
   ],
   "source": [
    "N_max = 14\n",
    "N_av = 20 #times we do the SCF to do statistics\n",
    "N_pairs = int(N_max/2)\n",
    "\n",
    "E_i = np.zeros(N_av)\n",
    "E_N = np.zeros(N_max + 1)\n",
    "E_Nvar = np.zeros(N_max + 1)\n",
    "\n",
    "for n in range(1, N_pairs + 1):\n",
    "    N_electrons = n*2\n",
    "    print ('Computing energy for N_electrons = ', N_electrons,'\\r')\n",
    "    for av in range(N_av):\n",
    "        E_i[av] = lib.SCF(N_electrons, integrals, S, max_iter_SCF, eps_SCF, print_E = False)\n",
    "        \n",
    "    E_N[N_electrons] = np.average(E_i)\n",
    "    E_Nvar[N_electrons] = np.std(E_i) / np.sqrt(N_av)\n",
    "    print('E({})='.format(N_electrons), E_N[N_electrons])\n",
    "    \n",
    "print(E_N)"
   ]
  },
  {
   "cell_type": "markdown",
   "metadata": {},
   "source": [
    "Now we proceed to compute the chemical potential. We don't have a computation for N odd, but we perform a linear interpolation."
   ]
  },
  {
   "cell_type": "code",
   "execution_count": 89,
   "metadata": {},
   "outputs": [
    {
     "name": "stdout",
     "output_type": "stream",
     "text": [
      "energies [ 0.          4.35634989  8.71269979 12.45777316 16.20284654 19.56940164\n",
      " 22.93595674 27.9655794  32.99520206 37.3155405  41.63587893 46.82491\n",
      " 52.01394108 58.17755799 64.34117491]\n",
      "chemical pot [4.35634989 4.35634989 3.74507338 3.74507338 3.3665551  3.3665551\n",
      " 5.02962266 5.02962266 4.32033843 4.32033843 5.18903107 5.18903107\n",
      " 6.16361692 6.16361692]\n"
     ]
    }
   ],
   "source": [
    "for k in range(int(Ne_max/2)+1):\n",
    "    if k != Ne_max/2:\n",
    "        E_N[2*k+1] = (E_N[2*k+2] + E_N[2*k]) / 2\n",
    "\n",
    "mu_N = np.zeros(Ne_max)\n",
    "for k in range(1, Ne_max + 1):\n",
    "    mu_N[k-1] = E_N[k] - E_N[k-1]\n",
    "    \n",
    "print('energies',E_N)\n",
    "print('chemical pot', mu_N)"
   ]
  },
  {
   "cell_type": "code",
   "execution_count": 189,
   "metadata": {},
   "outputs": [
    {
     "data": {
      "image/png": "[encoded data removed]",
      "text/plain": [
       "<Figure size 576x432 with 1 Axes>"
      ]
     },
     "metadata": {},
     "output_type": "display_data"
    }
   ],
   "source": [
    "fig, ax = plt.subplots(1)\n",
    "fig.set_size_inches(8, 6)\n",
    "ax.tick_params(axis=\"x\",direction=\"in\",which='major',labelsize=14)\n",
    "ax.tick_params(axis=\"y\",direction=\"in\",which='major',labelsize=14)\n",
    "ax.set_xlabel('Number of electrons N',fontsize=16)\n",
    "ax.set_ylabel('Total Energy E(N) [meV]',fontsize=16)\n",
    "\n",
    "electrons = np.array([0,2,4,6,8,10,12,14])\n",
    "electrons2 = np.array([0,1,2,3,4,5,6,7,8,9,10,11,12,13,14])\n",
    "E_N_paper = np.array([0,50,105,190,290,390,510,620,750,900])\n",
    "\n",
    "plt.errorbar(electrons2 , 11.61 * E_N, yerr = 2*np.sqrt(N_av) * 11.61 * E_Nvar, fmt='bo', label = 'RHF')\n",
    "ax.scatter(electrons2[:10],E_N_paper,c='r',label = 'UHF')\n",
    "ax.plot(electrons2[:10],E_N_paper,'r')\n",
    "ax.legend(fontsize=16,loc = (0.03,0.8))\n",
    "ax.text(0.3, 685, 'std 95%', style='normal',\n",
    "        bbox={'facecolor': 'white', 'alpha': 0.8, 'pad': 7}, fontsize = 13)\n",
    "plt.show()"
   ]
  },
  {
   "cell_type": "code",
   "execution_count": 210,
   "metadata": {},
   "outputs": [
    {
     "data": {
      "image/png": "[encoded data removed]",
      "text/plain": [
       "<Figure size 576x432 with 1 Axes>"
      ]
     },
     "metadata": {},
     "output_type": "display_data"
    }
   ],
   "source": [
    "fig, ax = plt.subplots(1)\n",
    "fig.set_size_inches(8, 6)\n",
    "ax.tick_params(axis=\"x\",direction=\"in\",which='major',labelsize=14)\n",
    "ax.tick_params(axis=\"y\",direction=\"in\",which='major',labelsize=14)\n",
    "ax.set_xlabel('Number of electrons N',fontsize=16)\n",
    "ax.set_ylabel('Chemical potential [meV]',fontsize=16)\n",
    "\n",
    "ax.plot(electrons2[1:],11.61*mu_N,color='b')\n",
    "ax.scatter(electrons2[1:],11.61*mu_N,color='b')\n",
    "\n",
    "plt.savefig('chemical.png')\n",
    "plt.show() "
   ]
  },
  {
   "cell_type": "markdown",
   "metadata": {},
   "source": [
    "Different quantum dot (increased size)"
   ]
  },
  {
   "cell_type": "code",
   "execution_count": 155,
   "metadata": {},
   "outputs": [],
   "source": [
    "lz = 0.5\n",
    "lx = 5\n",
    "\n",
    "OMEGA_X = 1/lx**2\n",
    "OMEGA_Z = 1/lz**2\n",
    "\n",
    "N_electrons = 2\n",
    "N_basis = 14\n",
    "N_points = 100000\n",
    "integrals_file = \"integrals/integrals_QD_14nz0_a.npy\"\n",
    "\n",
    "normalized_wf = True\n",
    "\n",
    "max_iter_SCF = 500\n",
    "eps_SCF = 1e-4\n",
    "Delta_SCF = 0"
   ]
  },
  {
   "cell_type": "code",
   "execution_count": 156,
   "metadata": {},
   "outputs": [],
   "source": [
    "def analytical_1(p,q):\n",
    "    n_p = index_to_q_numbers(p-1)\n",
    "    I = (p==q)*(OMEGA_X*(n_p[0] + n_p[1] + 1) + OMEGA_Z*(n_p[2] + 0.5))\n",
    "    \n",
    "    return I\n",
    "def f_cov(p, r, q, s):\n",
    "    \n",
    "    cov = 0.5*np.diag([1/OMEGA_X, 1/OMEGA_X, 1/OMEGA_Z, 1/OMEGA_X, 1/OMEGA_X, 1/OMEGA_Z])\n",
    "    \n",
    "    return cov\n",
    "def Hermite_pol(x, n):\n",
    "    \"\"\"\n",
    "    Evaluates the Hermite polynomial of order n at x.\n",
    "\n",
    "    Parameters\n",
    "    ==========\n",
    "    x : float or np.ndarray\n",
    "        Values in which to evaluate the Hermite polynomial\n",
    "    n : int\n",
    "        Oder of the Hermite polynomial\n",
    "\n",
    "    Returns\n",
    "    =======\n",
    "    float or np.ndarray\n",
    "    \"\"\"\n",
    "    return special.eval_hermite(n, x)\n",
    "\n",
    "def HO_wf(x, n, omega=OMEGA_X):\n",
    "    \"\"\"\n",
    "    Evaluates the n^th eigenfunction of the Harmonic Oscillator at x.\n",
    "    The units of x are sqrt(hbar/m*omega). \n",
    "\n",
    "    Parameters\n",
    "    ==========\n",
    "    x : float or np.ndarray(N)\n",
    "        Values in which to evaluate eigenfunction\n",
    "    n : int\n",
    "        Number of the eigenfunction\n",
    "    omega : float\n",
    "        Angular frequency of the Harmonic Oscillator\n",
    "\n",
    "    Returns\n",
    "    =======\n",
    "    float or np.ndarray(N)\n",
    "    \"\"\"\n",
    "    #return omega**0.25 * Hermite_pol(np.sqrt(omega)*x, n) * np.exp(-omega*x**2 / 2) / np.sqrt(2**n * np.math.factorial(n) * np.sqrt(np.pi))\n",
    "    return omega**0.25 * Hermite_pol(np.sqrt(omega)*x, n) / np.sqrt(2**n * np.math.factorial(n) * np.sqrt(np.pi))\n",
    "\n",
    "def HO_wf_3D(x, y, z, nx, ny, nz, omega_x=OMEGA_X, omega_y=OMEGA_X, omega_z=OMEGA_Z):\n",
    "    \"\"\"\n",
    "    Evaluates the n^th eigenfunction of the (anisotropic) Harmonic Oscillator at x,y,z.\n",
    "    The units of x,y,z are sqrt(hbar/m*omega). \n",
    "\n",
    "    Parameters\n",
    "    ==========\n",
    "    x, y, z : float or np.ndarray(N)\n",
    "        Position in which to evaluate the wave function\n",
    "    nx, ny, nz : int\n",
    "        Number of the eigenfunction for each cartesian coordinate\n",
    "    omega_x, omega_y, omega_z : float\n",
    "        Harmonic osciallation constant for each cartesian coordinate\n",
    "\n",
    "    Returns\n",
    "    =======\n",
    "    float or np.ndarray(N)\n",
    "    \"\"\"\n",
    "    return HO_wf(x, nx, omega=omega_x)*HO_wf(y, ny, omega=omega_y)*HO_wf(z, nz, omega=omega_z)\n",
    "\n",
    "def index_to_q_numbers(k):\n",
    "    \"\"\"\n",
    "    Returns the quantum numbers nx, ny, nz associated with the basis index k\n",
    "\n",
    "    Parameters\n",
    "    ----------\n",
    "    k: int\n",
    "        Index of the basis from 0 to 13\n",
    "\n",
    "    Returns\n",
    "    ----------\n",
    "    nz ,ny, nz : int \n",
    "        Quantum numbers\n",
    "    \"\"\"\n",
    "\n",
    "    #q_numbers = np.array([(0,0,0),(0,0,1),(0,1,0),(1,0,0),(0,1,1),(1,0,1),(1,1,0),(1,1,1),(1,1,2),(1,2,1),(2,1,1),(1,2,2),(2,1,2),(2,2,1)])\n",
    "    q_numbers = np.array([(0,0,0),(0,1,0),(1,0,0),(1,1,0),(2,0,0),(0,2,0),(2,1,0),(1,2,0),(3,0,0),(0,3,0),(2,2,0),(2,2,0),(3,1,0),(1,3,0)])\n",
    "\n",
    "    return q_numbers[k]\n",
    "def integrand_2(R, p, r, q, s):\n",
    "    r1 = R[:,0:3]\n",
    "    r2 = R[:,3:6]\n",
    "    r12 = np.sqrt(np.sum((r1 - r2)**2, axis=-1))\n",
    "    \n",
    "    x1 = R[:,0]\n",
    "    y1 = R[:,1]\n",
    "    z1 = R[:,2]\n",
    "    x2 = R[:,3]\n",
    "    y2 = R[:,4]\n",
    "    z2 = R[:,5]\n",
    "    \n",
    "    n_p = index_to_q_numbers(p-1)\n",
    "    n_r = index_to_q_numbers(r-1)\n",
    "    n_q = index_to_q_numbers(q-1)\n",
    "    n_s = index_to_q_numbers(s-1)\n",
    "    \n",
    "    result = 1/r12\n",
    "    \n",
    "    result *= HO_wf_3D(x1, y1, z1, n_p[0], n_p[1], n_p[2])\n",
    "    result *= HO_wf_3D(x2, y2, z2, n_r[0], n_r[1], n_r[2])\n",
    "    result *= HO_wf_3D(x1, y1, z1, n_q[0], n_q[1], n_q[2])\n",
    "    result *= HO_wf_3D(x2, y2, z2, n_s[0], n_s[1], n_s[2])\n",
    "  \n",
    "    \n",
    "    return result\n",
    "\n",
    "def norm_product(p, r, q, s):\n",
    "    return (np.pi/OMEGA_X)**2 * np.pi/OMEGA_Z\n",
    "\n",
    "def two_body_integrand(p, r, q, s):\n",
    "    f = lambda R: integrand_2(R, p, r, q, s)*norm_product(p, r, q, s)\n",
    "    \n",
    "    return f"
   ]
  },
  {
   "cell_type": "code",
   "execution_count": 157,
   "metadata": {},
   "outputs": [
    {
     "name": "stdout",
     "output_type": "stream",
     "text": [
      "Calculating two electron integrals: 1/14\n",
      "Calculating two electron integrals: 2/14\n",
      "Calculating two electron integrals: 3/14\n",
      "Calculating two electron integrals: 4/14\n",
      "Calculating two electron integrals: 5/14\n",
      "Calculating two electron integrals: 6/14\n",
      "Calculating two electron integrals: 7/14\n",
      "Calculating two electron integrals: 8/14\n",
      "Calculating two electron integrals: 9/14\n",
      "Calculating two electron integrals: 10/14\n",
      "Calculating two electron integrals: 11/14\n",
      "Calculating two electron integrals: 12/14\n",
      "Calculating two electron integrals: 13/14\n",
      "Calculating two electron integrals: 14/14\n"
     ]
    }
   ],
   "source": [
    "# One- and Two-body integrals\n",
    "MC_args = {\"f_cov\":f_cov, \"f_integrand\":two_body_integrand, \"N_points\":N_points}\n",
    "integrals = lib.integral_master(N_basis)\n",
    "integrals.calculate(integrals_file, analytical_1, MC_args = MC_args)"
   ]
  },
  {
   "cell_type": "code",
   "execution_count": 158,
   "metadata": {},
   "outputs": [],
   "source": [
    "if not normalized_wf:\n",
    "    S = np.zeros((4,4))\n",
    "    for p in range(4):\n",
    "        for q in range(4):\n",
    "            S[p][q] = (np.pi/(ALPHA[p]+ALPHA[q]))**(1.5)\n",
    "    SVAL, SVEC = np.linalg.eigh(S) \n",
    "    SVAL_minhalf = (np.diag(SVAL**(-0.5))) \n",
    "    X = np.dot(SVEC, np.dot(SVAL_minhalf, np.transpose(SVEC)))\n",
    "else:\n",
    "    S = np.eye(N_basis)"
   ]
  },
  {
   "cell_type": "code",
   "execution_count": 161,
   "metadata": {},
   "outputs": [
    {
     "name": "stdout",
     "output_type": "stream",
     "text": [
      "Computing energy for N_electrons =  2 \n",
      "E(2)= 4.067343852093808\n",
      "Computing energy for N_electrons =  4 \n",
      "E(4)= 5.996329279611082\n",
      "Computing energy for N_electrons =  6 \n",
      "E(6)= 8.07675198739323\n",
      "Computing energy for N_electrons =  8 \n",
      "E(8)= 10.145576229440753\n",
      "Computing energy for N_electrons =  10 \n",
      "E(10)= 12.252479552241068\n",
      "Computing energy for N_electrons =  12 \n",
      "E(12)= 14.404555831868734\n",
      "Computing energy for N_electrons =  14 \n",
      "E(14)= 16.642144388662526\n",
      "[ 0.          0.          4.06734385  0.          5.99632928  0.\n",
      "  8.07675199  0.         10.14557623  0.         12.25247955  0.\n",
      " 14.40455583  0.         16.64214439]\n"
     ]
    }
   ],
   "source": [
    "N_max = 14\n",
    "N_av = 20 #times we do the SCF to do statistics\n",
    "N_pairs = int(N_max/2)\n",
    "\n",
    "E_i_a = np.zeros(N_av)\n",
    "E_N_a = np.zeros(N_max + 1)\n",
    "E_Nvar_a = np.zeros(N_max + 1)\n",
    "\n",
    "for n in range(1,N_pairs +1):\n",
    "    N_electrons = n*2\n",
    "    print ('Computing energy for N_electrons = ', N_electrons,'\\r')\n",
    "    for av in range(N_av):\n",
    "        E_i_a[av] = lib.SCF(N_electrons, integrals, S, max_iter_SCF, eps_SCF, print_E=False)\n",
    "        \n",
    "    E_N_a[N_electrons] = np.average(E_i_a)\n",
    "    E_Nvar_a[N_electrons] = np.std(E_i_a)/np.sqrt(N_av)\n",
    "    print('E({})='.format(N_electrons),E_N_a[N_electrons])\n",
    "    \n",
    "print(E_N_a)"
   ]
  },
  {
   "cell_type": "code",
   "execution_count": 162,
   "metadata": {},
   "outputs": [
    {
     "name": "stdout",
     "output_type": "stream",
     "text": [
      "energies [ 0.          2.03367193  4.06734385  5.03183657  5.99632928  7.03654063\n",
      "  8.07675199  9.11116411 10.14557623 11.19902789 12.25247955 13.32851769\n",
      " 14.40455583 15.52335011 16.64214439]\n",
      "chemical pot [2.03367193 2.03367193 0.96449271 0.96449271 1.04021135 1.04021135\n",
      " 1.03441212 1.03441212 1.05345166 1.05345166 1.07603814 1.07603814\n",
      " 1.11879428 1.11879428]\n"
     ]
    }
   ],
   "source": [
    "for k in range(int(Ne_max/2)+1):\n",
    "    if k != Ne_max/2:\n",
    "        E_N_a[2*k+1] = (E_N_a[2*k+2] + E_N_a[2*k]) / 2\n",
    "\n",
    "mu_N_a = np.zeros(Ne_max)\n",
    "for k in range(1, Ne_max + 1):\n",
    "    mu_N_a[k-1] = E_N_a[k] - E_N_a[k-1]\n",
    "    \n",
    "print('energies',E_N_a)\n",
    "print('chemical pot', mu_N_a)"
   ]
  },
  {
   "cell_type": "code",
   "execution_count": 206,
   "metadata": {},
   "outputs": [
    {
     "data": {
      "image/png": "[encoded data removed]",
      "text/plain": [
       "<Figure size 576x432 with 1 Axes>"
      ]
     },
     "metadata": {},
     "output_type": "display_data"
    }
   ],
   "source": [
    "fig, ax = plt.subplots(1)\n",
    "fig.set_size_inches(8, 6)\n",
    "ax.tick_params(axis=\"x\",direction=\"in\",which='major',labelsize=14)\n",
    "ax.tick_params(axis=\"y\",direction=\"in\",which='major',labelsize=14)\n",
    "ax.set_xlabel('Number of electrons N',fontsize=16)\n",
    "ax.set_ylabel('Total Energy E(N) [meV]',fontsize=16)\n",
    "\n",
    "electrons = np.array([0,2,4,6,8,10,12,14])\n",
    "electrons2 = np.array([0,1,2,3,4,5,6,7,8,9,10,11,12,13,14])\n",
    "E_N_paper_a = np.array([0,25,50,75,105,120,155,170,215,250,290,327,350])\n",
    "\n",
    "plt.errorbar(electrons2 , 11.61 * E_N, yerr = 2*np.sqrt(N_av) * 11.61 * E_Nvar, fmt='bo', label = 'RHFc')\n",
    "ax.scatter(electrons2[:10],E_N_paper,c='b',label = 'UHFc',marker = 'x')\n",
    "ax.plot(electrons2[:10],E_N_paper,'b')\n",
    "\n",
    "plt.errorbar(electrons2 , 11.61 * E_N_a, yerr = 2*np.sqrt(N_av) * 11.61 * E_Nvar_a, fmt='ro', label = 'RHFa')\n",
    "ax.scatter(electrons2[:13],E_N_paper_a,c='r',label = 'UHFa',marker='x')\n",
    "ax.plot(electrons2[:13], E_N_paper_a, 'r')\n",
    "\n",
    "ax.legend(fontsize=15, loc = (0.03,0.66))\n",
    "ax.text(0.3,550, 'std 95%', style='normal',\n",
    "        bbox={'facecolor': 'white', 'alpha': 0.8, 'pad': 7}, fontsize = 13)\n",
    "plt.savefig('energias.png')\n",
    "plt.show()\n"
   ]
  },
  {
   "cell_type": "code",
   "execution_count": 201,
   "metadata": {},
   "outputs": [
    {
     "data": {
      "image/png": "[encoded data removed]",
      "text/plain": [
       "<Figure size 576x432 with 1 Axes>"
      ]
     },
     "metadata": {},
     "output_type": "display_data"
    }
   ],
   "source": [
    "fig, ax = plt.subplots(1)\n",
    "fig.set_size_inches(8, 6)\n",
    "ax.tick_params(axis=\"x\",direction=\"in\",which='major',labelsize=14)\n",
    "ax.tick_params(axis=\"y\",direction=\"in\",which='major',labelsize=14)\n",
    "ax.set_xlabel('Number of electrons N',fontsize=16)\n",
    "ax.set_ylabel('Chemical potential [meV]',fontsize=16)\n",
    "\n",
    "ax.plot(electrons2[1:],11.61*mu_N_a)\n",
    "\n",
    "plt.show() "
   ]
  },
  {
   "cell_type": "code",
   "execution_count": 202,
   "metadata": {},
   "outputs": [
    {
     "data": {
      "text/plain": [
       "array([2.03367193, 2.03367193, 0.96449271, 0.96449271, 1.04021135,\n",
       "       1.04021135, 1.03441212, 1.03441212, 1.05345166, 1.05345166,\n",
       "       1.07603814, 1.07603814, 1.11879428, 1.11879428])"
      ]
     },
     "execution_count": 202,
     "metadata": {},
     "output_type": "execute_result"
    }
   ],
   "source": [
    "mu_N_a"
   ]
  },
  {
   "cell_type": "code",
   "execution_count": null,
   "metadata": {},
   "outputs": [],
   "source": []
  }
 ],
 "metadata": {
  "kernelspec": {
   "display_name": "Python 3",
   "language": "python",
   "name": "python3"
  },
  "language_info": {
   "codemirror_mode": {
    "name": "ipython",
    "version": 3
   },
   "file_extension": ".py",
   "mimetype": "text/x-python",
   "name": "python",
   "nbconvert_exporter": "python",
   "pygments_lexer": "ipython3",
   "version": "3.6.6"
  },
  "latex_envs": {
   "LaTeX_envs_menu_present": true,
   "autoclose": false,
   "autocomplete": true,
   "bibliofile": "biblio.bib",
   "cite_by": "apalike",
   "current_citInitial": 1,
   "eqLabelWithNumbers": true,
   "eqNumInitial": 1,
   "hotkeys": {
    "equation": "Ctrl-E",
    "itemize": "Ctrl-I"
   },
   "labels_anchors": false,
   "latex_user_defs": false,
   "report_style_numbering": false,
   "user_envs_cfg": false
  }
 },
 "nbformat": 4,
 "nbformat_minor": 2
}
