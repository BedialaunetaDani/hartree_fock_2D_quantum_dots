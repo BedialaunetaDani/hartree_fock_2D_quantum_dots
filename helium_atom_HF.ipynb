{
 "cells": [
  {
   "cell_type": "code",
   "execution_count": 1,
   "metadata": {},
   "outputs": [],
   "source": [
    "import lib as lib\n",
    "import basis_set as bs\n",
    "import numpy as np\n",
    "import os\n",
    "import mc_integration as mc"
   ]
  },
  {
   "cell_type": "markdown",
   "metadata": {},
   "source": [
    "### Hartree Fock computation of the Helium atom\n",
    "\n",
    "First we set up the simulation"
   ]
  },
  {
   "cell_type": "code",
   "execution_count": 2,
   "metadata": {},
   "outputs": [],
   "source": [
    "N_electrons = 2\n",
    "N_basis = 4\n",
    "integrals_file = \"integrals_He.npy\"\n",
    "\n",
    "normalized_wf = False\n",
    "\n",
    "max_iter_SCF = 100\n",
    "eps_SCF = 1E-5"
   ]
  },
  {
   "cell_type": "markdown",
   "metadata": {},
   "source": [
    "Now we make minor modifications on the integral_master class to adapt it to the computation of the Helium atom, whose basis functions are different."
   ]
  },
  {
   "cell_type": "code",
   "execution_count": 3,
   "metadata": {},
   "outputs": [],
   "source": [
    "class integral_master_He():\n",
    "    \"\"\"\n",
    "    Calculates, stores and retrieves the values of the <pr|g|qs> integrals\n",
    "    \"\"\"\n",
    "    def __init__(self, dimension):\n",
    "        \"\"\"\n",
    "        Initialization of the object\n",
    "\n",
    "        Parameters\n",
    "        ----------\n",
    "        dimension : int\n",
    "            Number of single basis functions\n",
    "\n",
    "        Returns\n",
    "        -------\n",
    "        None\n",
    "        \"\"\"\n",
    "\n",
    "        self.integral_dict_1 = None\n",
    "        self.integral_dict_2 = None\n",
    "        self.dimension = dimension\n",
    "\n",
    "        return\n",
    "\n",
    "    def calculate(self, file_name):\n",
    "        \"\"\"\n",
    "        Calculates the <pr|g|qs> integrals and stores them in file\n",
    "\n",
    "        Parameters\n",
    "        ----------\n",
    "        file_name : str\n",
    "            File name that stores the values of the integrals\n",
    "\n",
    "        Returns\n",
    "        -------\n",
    "        None\n",
    "        \"\"\"\n",
    "\n",
    "        if file_name in os.listdir():\n",
    "            print(\"Integral file already exists. Not computing the integrals. \")\n",
    "            self.load_integrals(file_name)\n",
    "            return\n",
    "\n",
    "        integral_dict_1 = {}\n",
    "        integral_dict_2 = {}\n",
    "\n",
    "        # 1-body integrals\n",
    "        for p in range(1, self.dimension + 1):\n",
    "            for q in range(1, self.dimension + 1):\n",
    "                if p == q:\n",
    "                    I = self.calculate_1(p, q)\n",
    "                else:\n",
    "                    I = 0\n",
    "\n",
    "                integral_dict_1[(p, q)] = I\n",
    "\n",
    "        # 2-body integrals\n",
    "        for p in range(1, self.dimension + 1):\n",
    "            for q in range(1, p + 1):\n",
    "                for r in range(1, p):\n",
    "                    for s in range(1, r + 1):\n",
    "                        I = self.calculate_2(p, r, q, s)\n",
    "\n",
    "                        integral_dict_2[(p, r, q, s)] = I\n",
    "                        integral_dict_2[(q, r, p, s)] = I\n",
    "                        integral_dict_2[(p, s, q, r)] = I\n",
    "                        integral_dict_2[(r, p, s, q)] = I\n",
    "                        integral_dict_2[(q, s, p, r)] = I\n",
    "                        integral_dict_2[(r, q, s, p)] = I\n",
    "                        integral_dict_2[(s, p, r, q)] = I\n",
    "                        integral_dict_2[(s, q, r, p)] = I\n",
    "                r = p\n",
    "                for s in range(1, q + 1):\n",
    "                    I = self.calculate_2(p, r, q, s)\n",
    "\n",
    "                    integral_dict_2[(p, r, q, s)] = I\n",
    "                    integral_dict_2[(q, r, p, s)] = I\n",
    "                    integral_dict_2[(p, s, q, r)] = I\n",
    "                    integral_dict_2[(r, p, s, q)] = I\n",
    "                    integral_dict_2[(q, s, p, r)] = I\n",
    "                    integral_dict_2[(r, q, s, p)] = I\n",
    "                    integral_dict_2[(s, p, r, q)] = I\n",
    "                    integral_dict_2[(s, q, r, p)] = I\n",
    "\n",
    "        np.save(file_name, np.array([integral_dict_1, integral_dict_2]))\n",
    "\n",
    "        self.load_integrals(file_name)\n",
    "\n",
    "        return\n",
    "\n",
    "\n",
    "    def load_integrals(self, file_name):\n",
    "        \"\"\"\n",
    "        Loads the values of the integrals in this object\n",
    "\n",
    "        Parameters\n",
    "        ----------\n",
    "        file_name : str\n",
    "            File name that stores the values of the integrals\n",
    "\n",
    "        Returns\n",
    "        -------\n",
    "        None\n",
    "        \"\"\"\n",
    "\n",
    "        self.integral_dict_1, self.integral_dict_2 = np.load(file_name, allow_pickle = True)\n",
    "\n",
    "        return\n",
    "\n",
    "    def get_1(self, p, q):\n",
    "        \"\"\"\n",
    "        Returns the value of the h_pq integrals from the class dictionaries\n",
    "\n",
    "        Parameters\n",
    "        ----------\n",
    "        p, q: int\n",
    "            Indices that specify the h_pq integral\n",
    "\n",
    "        Returns\n",
    "        -------\n",
    "        I : float\n",
    "            Value of the h_pq integral\n",
    "        \"\"\"\n",
    "\n",
    "        I = self.integral_dict_1[(p, q)]\n",
    "\n",
    "        return I\n",
    "\n",
    "    def get_2(self, p, r, q, s):\n",
    "        \"\"\"\n",
    "        Returns the value of the <pr|g|qs> integrals from the class dictionaries\n",
    "\n",
    "        Parameters\n",
    "        ----------\n",
    "        p, r, q, s: int\n",
    "            Indeces that specify the <pr|g|qs> integral\n",
    "\n",
    "        Returns\n",
    "        -------\n",
    "        I : float\n",
    "            Value of the <pr|g|qs> integral\n",
    "        \"\"\"\n",
    "\n",
    "        I = self.integral_dict_2[(p, r, q, s)]\n",
    "\n",
    "        return I\n",
    "\n",
    "\n",
    "    \n",
    "    def calculate_1(self, p, q):\n",
    "        \"\"\"\n",
    "        Calculates the value of the h_pq integrals by direct integration\n",
    "\n",
    "        Parameters\n",
    "        ----------\n",
    "        p, q: int\n",
    "            Indices that specify the h_pq integral\n",
    "\n",
    "        Returns\n",
    "        ----------\n",
    "        I : float\n",
    "            Value of the h_pq integral\n",
    "        \"\"\"\n",
    "\n",
    "        I = 3*bs.ALPHA[p-1]*bs.ALPHA[q-1]*np.pi**(1.5)/(bs.ALPHA[p-1] + bs.ALPHA[q-1])**(5/2) - 4*np.pi/(bs.ALPHA[p-1] + bs.ALPHA[q-1])\n",
    "\n",
    "        return I\n",
    "\n",
    "    def calculate_2(self, p, r, q, s):\n",
    "        \"\"\"\n",
    "        Calculates the value of the <pr|g|qs> integrals by monte carlo integration methods\n",
    "\n",
    "        Parameters\n",
    "        ----------\n",
    "        p, q, r, s: int\n",
    "            Indices that specify the <pr|g|qs> integral\n",
    "\n",
    "        Returns\n",
    "        ----------\n",
    "        I : float\n",
    "            Value of the <pr|g|qs> integral\n",
    "        \"\"\"\n",
    "\n",
    "        system_size = 5\n",
    "        N_walkers = 500\n",
    "        N_steps = 12000\n",
    "        N_skip = 2000\n",
    "        trial_move = 0.6\n",
    "        \n",
    "        integrand = bs.He_two_body_integrand\n",
    "        indices = np.array([p,r,q,s])\n",
    "        dimension = 6\n",
    "\n",
    "        sampling = bs.sampling_function\n",
    "\n",
    "        I, deltaI, acceptance_ratio, trial_move = mc.MC_integration(sampling, integrand, indices, dimension, N_steps, N_walkers, N_skip, system_size, N_cores=-1, trial_move=trial_move)\n",
    "\n",
    "        return I\n"
   ]
  },
  {
   "cell_type": "markdown",
   "metadata": {},
   "source": [
    "### Computation block\n",
    "In the next piece of code we run the actual computation of the energy levels of the Helium atom. First we initialize the class to compute the integrals using the four basis functions defined in Jos' book and then we initialize a random coeficient matrix and we compute the density matrix. From there we actually compute the matrix and then we check whether the wave functions are normalized and compute the matrix S accordingly."
   ]
  },
  {
   "cell_type": "code",
   "execution_count": 4,
   "metadata": {
    "scrolled": false
   },
   "outputs": [
    {
     "name": "stdout",
     "output_type": "stream",
     "text": [
      "C [[0.0909769  0.64323823 0.82095787 0.14786131]\n",
      " [0.1731025  0.4450871  0.1889326  0.38876416]\n",
      " [0.85189933 0.66573975 0.56117649 0.6952178 ]\n",
      " [0.67624715 0.87305928 0.10582277 0.25480443]]\n",
      "rho [[0.01655359 0.03149666 0.15500632 0.12304574]\n",
      " [0.03149666 0.05992895 0.2949318  0.23412014]\n",
      " [0.15500632 0.2949318  1.45146495 1.15218899]\n",
      " [0.12304574 0.23412014 1.15218899 0.91462041]]\n"
     ]
    },
    {
     "name": "stderr",
     "output_type": "stream",
     "text": [
      "C:\\Programs\\Anaconda3\\lib\\site-packages\\numpy\\core\\_methods.py:202: RuntimeWarning: invalid value encountered in subtract\n",
      "  x = asanyarray(arr - arrmean)\n"
     ]
    },
    {
     "name": "stdout",
     "output_type": "stream",
     "text": [
      "S [[1.20975063e+01 2.91187719e+00 3.71330014e-01 2.30637530e-02]\n",
      " [2.91187719e+00 1.42134692e+00 2.99025043e-01 2.22459699e-02]\n",
      " [3.71330014e-01 2.99025043e-01 1.41564997e-01 1.89120383e-02]\n",
      " [2.30637530e-02 2.22459699e-02 1.89120383e-02 8.24921040e-03]]\n"
     ]
    }
   ],
   "source": [
    "integrals = integral_master_He(N_basis)\n",
    "C = np.random.rand(N_basis, N_basis)\n",
    "rho = lib.density_matrix(C, N_electrons)\n",
    "print('C',C)\n",
    "print('rho', rho)\n",
    "    # One- and Two-body integrals\n",
    "integrals.calculate(integrals_file)\n",
    "\n",
    "    # Normalization of wave functions\n",
    "if not normalized_wf:\n",
    "    S = np.zeros((4,4))\n",
    "    for p in range(4):\n",
    "        for q in range(4):\n",
    "            S[p][q] = (np.pi/(bs.ALPHA[p]+bs.ALPHA[q]))**(1.5)\n",
    "    SVAL, SVEC = np.linalg.eigh(S) \n",
    "    SVAL_minhalf = (np.diag(SVAL**(-0.5))) \n",
    "    X = np.dot(SVEC, np.dot(SVAL_minhalf, np.transpose(SVEC)))\n",
    "else:\n",
    "    S = np.eye(N_basis)\n",
    "print('S',S)"
   ]
  },
  {
   "cell_type": "markdown",
   "metadata": {},
   "source": [
    "Finally, we run the self consistent field iteration to recursively update C until a convergence condition is fulfilled."
   ]
  },
  {
   "cell_type": "code",
   "execution_count": 5,
   "metadata": {},
   "outputs": [
    {
     "name": "stdout",
     "output_type": "stream",
     "text": [
      "[[nan inf inf nan]\n",
      " [inf nan inf nan]\n",
      " [inf inf nan nan]\n",
      " [nan nan nan nan]]\n"
     ]
    },
    {
     "name": "stderr",
     "output_type": "stream",
     "text": [
      "C:\\Users\\alvar\\Documents\\TUDelft\\2. Computational Physics\\Project3_abermejillo_dbedialaunetar_mserraperalta\\lib.py:237: RuntimeWarning: invalid value encountered in double_scalars\n",
      "  F[p, q] += rho[r,s]*(integrals.get_2(p+1, q+1, r+1, s+1) - 0.5*integrals.get_2(p+1, r+1, q+1, s+1))\n",
      "C:\\Programs\\Anaconda3\\lib\\site-packages\\ipykernel_launcher.py:14: RuntimeWarning: invalid value encountered in matmul\n",
      "  \n"
     ]
    },
    {
     "ename": "LinAlgError",
     "evalue": "Eigenvalues did not converge",
     "output_type": "error",
     "traceback": [
      "\u001b[1;31m---------------------------------------------------------------------------\u001b[0m",
      "\u001b[1;31mLinAlgError\u001b[0m                               Traceback (most recent call last)",
      "\u001b[1;32m<ipython-input-5-b5e10006af76>\u001b[0m in \u001b[0;36m<module>\u001b[1;34m()\u001b[0m\n\u001b[0;32m     13\u001b[0m     \u001b[1;32melse\u001b[0m\u001b[1;33m:\u001b[0m\u001b[1;33m\u001b[0m\u001b[0m\n\u001b[0;32m     14\u001b[0m         \u001b[0mF_prime\u001b[0m \u001b[1;33m=\u001b[0m \u001b[0mnp\u001b[0m\u001b[1;33m.\u001b[0m\u001b[0mconjugate\u001b[0m\u001b[1;33m(\u001b[0m\u001b[0mX\u001b[0m\u001b[1;33m.\u001b[0m\u001b[0mtranspose\u001b[0m\u001b[1;33m(\u001b[0m\u001b[1;33m)\u001b[0m\u001b[1;33m)\u001b[0m \u001b[1;33m@\u001b[0m \u001b[0mF\u001b[0m \u001b[1;33m@\u001b[0m \u001b[0mX\u001b[0m\u001b[1;33m\u001b[0m\u001b[0m\n\u001b[1;32m---> 15\u001b[1;33m         \u001b[0mE\u001b[0m\u001b[1;33m,\u001b[0m \u001b[0mC_prime\u001b[0m \u001b[1;33m=\u001b[0m \u001b[0mnp\u001b[0m\u001b[1;33m.\u001b[0m\u001b[0mlinalg\u001b[0m\u001b[1;33m.\u001b[0m\u001b[0meigh\u001b[0m\u001b[1;33m(\u001b[0m\u001b[0mF_prime\u001b[0m\u001b[1;33m)\u001b[0m\u001b[1;33m\u001b[0m\u001b[0m\n\u001b[0m\u001b[0;32m     16\u001b[0m         \u001b[0mC\u001b[0m \u001b[1;33m=\u001b[0m \u001b[0mX\u001b[0m \u001b[1;33m@\u001b[0m \u001b[0mC_prime\u001b[0m\u001b[1;33m\u001b[0m\u001b[0m\n\u001b[0;32m     17\u001b[0m \u001b[1;33m\u001b[0m\u001b[0m\n",
      "\u001b[1;32m<__array_function__ internals>\u001b[0m in \u001b[0;36meigh\u001b[1;34m(*args, **kwargs)\u001b[0m\n",
      "\u001b[1;32mC:\\Programs\\Anaconda3\\lib\\site-packages\\numpy\\linalg\\linalg.py\u001b[0m in \u001b[0;36meigh\u001b[1;34m(a, UPLO)\u001b[0m\n\u001b[0;32m   1469\u001b[0m \u001b[1;33m\u001b[0m\u001b[0m\n\u001b[0;32m   1470\u001b[0m     \u001b[0msignature\u001b[0m \u001b[1;33m=\u001b[0m \u001b[1;34m'D->dD'\u001b[0m \u001b[1;32mif\u001b[0m \u001b[0misComplexType\u001b[0m\u001b[1;33m(\u001b[0m\u001b[0mt\u001b[0m\u001b[1;33m)\u001b[0m \u001b[1;32melse\u001b[0m \u001b[1;34m'd->dd'\u001b[0m\u001b[1;33m\u001b[0m\u001b[0m\n\u001b[1;32m-> 1471\u001b[1;33m     \u001b[0mw\u001b[0m\u001b[1;33m,\u001b[0m \u001b[0mvt\u001b[0m \u001b[1;33m=\u001b[0m \u001b[0mgufunc\u001b[0m\u001b[1;33m(\u001b[0m\u001b[0ma\u001b[0m\u001b[1;33m,\u001b[0m \u001b[0msignature\u001b[0m\u001b[1;33m=\u001b[0m\u001b[0msignature\u001b[0m\u001b[1;33m,\u001b[0m \u001b[0mextobj\u001b[0m\u001b[1;33m=\u001b[0m\u001b[0mextobj\u001b[0m\u001b[1;33m)\u001b[0m\u001b[1;33m\u001b[0m\u001b[0m\n\u001b[0m\u001b[0;32m   1472\u001b[0m     \u001b[0mw\u001b[0m \u001b[1;33m=\u001b[0m \u001b[0mw\u001b[0m\u001b[1;33m.\u001b[0m\u001b[0mastype\u001b[0m\u001b[1;33m(\u001b[0m\u001b[0m_realType\u001b[0m\u001b[1;33m(\u001b[0m\u001b[0mresult_t\u001b[0m\u001b[1;33m)\u001b[0m\u001b[1;33m,\u001b[0m \u001b[0mcopy\u001b[0m\u001b[1;33m=\u001b[0m\u001b[1;32mFalse\u001b[0m\u001b[1;33m)\u001b[0m\u001b[1;33m\u001b[0m\u001b[0m\n\u001b[0;32m   1473\u001b[0m     \u001b[0mvt\u001b[0m \u001b[1;33m=\u001b[0m \u001b[0mvt\u001b[0m\u001b[1;33m.\u001b[0m\u001b[0mastype\u001b[0m\u001b[1;33m(\u001b[0m\u001b[0mresult_t\u001b[0m\u001b[1;33m,\u001b[0m \u001b[0mcopy\u001b[0m\u001b[1;33m=\u001b[0m\u001b[1;32mFalse\u001b[0m\u001b[1;33m)\u001b[0m\u001b[1;33m\u001b[0m\u001b[0m\n",
      "\u001b[1;32mC:\\Programs\\Anaconda3\\lib\\site-packages\\numpy\\linalg\\linalg.py\u001b[0m in \u001b[0;36m_raise_linalgerror_eigenvalues_nonconvergence\u001b[1;34m(err, flag)\u001b[0m\n\u001b[0;32m     92\u001b[0m \u001b[1;33m\u001b[0m\u001b[0m\n\u001b[0;32m     93\u001b[0m \u001b[1;32mdef\u001b[0m \u001b[0m_raise_linalgerror_eigenvalues_nonconvergence\u001b[0m\u001b[1;33m(\u001b[0m\u001b[0merr\u001b[0m\u001b[1;33m,\u001b[0m \u001b[0mflag\u001b[0m\u001b[1;33m)\u001b[0m\u001b[1;33m:\u001b[0m\u001b[1;33m\u001b[0m\u001b[0m\n\u001b[1;32m---> 94\u001b[1;33m     \u001b[1;32mraise\u001b[0m \u001b[0mLinAlgError\u001b[0m\u001b[1;33m(\u001b[0m\u001b[1;34m\"Eigenvalues did not converge\"\u001b[0m\u001b[1;33m)\u001b[0m\u001b[1;33m\u001b[0m\u001b[0m\n\u001b[0m\u001b[0;32m     95\u001b[0m \u001b[1;33m\u001b[0m\u001b[0m\n\u001b[0;32m     96\u001b[0m \u001b[1;32mdef\u001b[0m \u001b[0m_raise_linalgerror_svd_nonconvergence\u001b[0m\u001b[1;33m(\u001b[0m\u001b[0merr\u001b[0m\u001b[1;33m,\u001b[0m \u001b[0mflag\u001b[0m\u001b[1;33m)\u001b[0m\u001b[1;33m:\u001b[0m\u001b[1;33m\u001b[0m\u001b[0m\n",
      "\u001b[1;31mLinAlgError\u001b[0m: Eigenvalues did not converge"
     ]
    }
   ],
   "source": [
    "# Self Consistent Field\n",
    "n_iterations = 0\n",
    "rho_old = np.zeros((N_basis, N_basis))\n",
    "\n",
    "while n_iterations < max_iter_SCF:\n",
    "    n_iterations += 1\n",
    "\n",
    "    F = lib.create_F_matrix(rho, integrals)\n",
    "    print(F)\n",
    "\n",
    "    if normalized_wf:\n",
    "        E, C = np.linalg.eigh(F)\n",
    "    else:\n",
    "        F_prime = np.conjugate(X.transpose()) @ F @ X\n",
    "        E, C_prime = np.linalg.eigh(F_prime)\n",
    "        C = X @ C_prime\n",
    "\n",
    "    rho = lib.density_matrix(C, N_electrons)\n",
    "    total_E = lib.total_energy(rho, F, integrals)\n",
    "\n",
    "    if lib.delta_rho(rho, rho_old) < eps_SCF:\n",
    "        break\n",
    "\n",
    "    total_E_old = total_E\n",
    "    rho_old = rho\n",
    "\n",
    "    print(\"E = {:0.7f} | N(SCF) = {}\".format(total_E, n_iterations))"
   ]
  },
  {
   "cell_type": "markdown",
   "metadata": {},
   "source": [
    "The next is just a check block in which one of the two body integrals is computed. We find that its divergent :("
   ]
  },
  {
   "cell_type": "code",
   "execution_count": null,
   "metadata": {},
   "outputs": [],
   "source": [
    "from scipy import integrate\n",
    "import numpy as np\n",
    "import basis_set as bs\n",
    "indices = np.array([2,2,1,1])\n",
    "I = integrate.nquad(bs.He_two_body_integrand,[[-np.inf,np.inf],[-np.inf,np.inf],[-np.inf,np.inf],[-np.inf,np.inf],[-np.inf,np.inf],[-np.inf,np.inf]],args=indices,opts={\"limit\":100})"
   ]
  },
  {
   "cell_type": "code",
   "execution_count": null,
   "metadata": {},
   "outputs": [],
   "source": []
  }
 ],
 "metadata": {
  "kernelspec": {
   "display_name": "Python 3",
   "language": "python",
   "name": "python3"
  },
  "language_info": {
   "codemirror_mode": {
    "name": "ipython",
    "version": 3
   },
   "file_extension": ".py",
   "mimetype": "text/x-python",
   "name": "python",
   "nbconvert_exporter": "python",
   "pygments_lexer": "ipython3",
   "version": "3.6.6"
  },
  "latex_envs": {
   "LaTeX_envs_menu_present": true,
   "autoclose": false,
   "autocomplete": true,
   "bibliofile": "biblio.bib",
   "cite_by": "apalike",
   "current_citInitial": 1,
   "eqLabelWithNumbers": true,
   "eqNumInitial": 1,
   "hotkeys": {
    "equation": "Ctrl-E",
    "itemize": "Ctrl-I"
   },
   "labels_anchors": false,
   "latex_user_defs": false,
   "report_style_numbering": false,
   "user_envs_cfg": false
  }
 },
 "nbformat": 4,
 "nbformat_minor": 2
}
