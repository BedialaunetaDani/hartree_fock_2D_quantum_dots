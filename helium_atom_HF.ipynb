{
 "cells": [
  {
   "cell_type": "code",
   "execution_count": 1,
   "metadata": {},
   "outputs": [],
   "source": [
    "import lib\n",
    "import numpy as np\n",
    "import os"
   ]
  },
  {
   "cell_type": "markdown",
   "metadata": {},
   "source": [
    "# Hartree Fock computation of the ground state of the Helium atom\n",
    "\n",
    "In this Jupyter Notebook we are going to compare the groundstate energies obtained with the analytical formula for the two body integrals with Montecarlo integration. In both cases, the Self-Consistent Field method is used.\n",
    "\n",
    "### Basis functions\n",
    "First we write the basis we are going to use"
   ]
  },
  {
   "cell_type": "code",
   "execution_count": 2,
   "metadata": {},
   "outputs": [],
   "source": [
    "ALPHA_1 =  0.298073\n",
    "ALPHA_2 =  1.242567\n",
    "ALPHA_3 =  5.782948\n",
    "ALPHA_4 = 38.474970\n",
    "ALPHA = [ALPHA_1, ALPHA_2, ALPHA_3,ALPHA_4]\n",
    "\n",
    "def He_wf(x, y, z, n):\n",
    "    \"\"\"\n",
    "    Evaluates the n^th eigenfunction of the Hydrogen atom with exponential coefficient alpha_i. \n",
    "    The units of x are atomic units. \n",
    "\n",
    "    Parameters\n",
    "    ==========\n",
    "    x, y, z : float or np.ndarray\n",
    "        Position in which to evaluate the wave function\n",
    "    n : int\n",
    "        Number of the wave function\n",
    "\n",
    "    Returns\n",
    "    =======\n",
    "    float or np.ndarray\n",
    "    \"\"\"\n",
    "\n",
    "    if n == 1:\n",
    "        alpha = ALPHA_1\n",
    "    elif n == 2:\n",
    "        alpha = ALPHA_2\n",
    "    elif n == 3:\n",
    "        alpha = ALPHA_3\n",
    "    elif n == 4:\n",
    "        alpha = ALPHA_4\n",
    "    else:\n",
    "        alpha = None\n",
    "\n",
    "    r2 = x**2 + y**2 + z**2\n",
    "\n",
    "    return np.exp(-alpha*r2)\n",
    "\n",
    "def He_wf_basis(R,k):\n",
    "    \"\"\"\n",
    "    Evaluates the k^th eigenfunction of the Hydrogen atom with exponential coefficient alpha_i. \n",
    "    The units of x are atomic units. \n",
    "\n",
    "    Parameters\n",
    "    ==========\n",
    "    R : np.ndarray(3,N)\n",
    "        Position in which to evaluate the wave function\n",
    "    k : int\n",
    "        Number of the wave function\n",
    "\n",
    "    Returns\n",
    "    =======\n",
    "    float or np.ndarray(N)\n",
    "    \"\"\"\n",
    "    return He_wf(R[0],R[1],R[2],k)"
   ]
  },
  {
   "cell_type": "markdown",
   "metadata": {},
   "source": [
    "We now write the functions to calculate the integrands of the two-body integrals"
   ]
  },
  {
   "cell_type": "code",
   "execution_count": 3,
   "metadata": {},
   "outputs": [],
   "source": [
    "def integrand_2(R):\n",
    "    r1 = R[:,0:3]\n",
    "    r2 = R[:,3:6]\n",
    "    r12 = np.sqrt(np.sum((r1 - r2)**2, axis=-1))\n",
    "    return 1/r12\n",
    "\n",
    "def norm_product(p, r, q, s):\n",
    "    a = ALPHA[p-1] + ALPHA[q-1]\n",
    "    b = ALPHA[r-1] + ALPHA[s-1]\n",
    "    PROD = (np.pi/a)**1.5 * (np.pi/b)**1.5\n",
    "    \n",
    "    return PROD\n",
    "\n",
    "def He_two_body_integrand(p, r, q, s):\n",
    "    \"\"\"\n",
    "    Integrand that goes into the monte carlo method in order to compute the \n",
    "    two electron integrals.\n",
    "\n",
    "    Parameters\n",
    "    ==========\n",
    "    indices : int np.ndarray(4)\n",
    "        Indices of the wave function\n",
    "\n",
    "    Returns\n",
    "    =======\n",
    "    function\n",
    "    \"\"\"\n",
    "    \n",
    "    f = lambda R: integrand_2(R)*norm_product(p, r, q, s)\n",
    "    \n",
    "    return f"
   ]
  },
  {
   "cell_type": "markdown",
   "metadata": {},
   "source": [
    "### One- and two- body integral computations\n",
    "We first initialize some necessary parameters"
   ]
  },
  {
   "cell_type": "code",
   "execution_count": 4,
   "metadata": {},
   "outputs": [],
   "source": [
    "N_electrons = 2\n",
    "N_basis = 4\n",
    "N_points = 1000000\n",
    "integrals_file = \"integrals_He.npy\"\n",
    "\n",
    "normalized_wf = False\n",
    "\n",
    "max_iter_SCF = 500\n",
    "eps_SCF = 1E-5\n",
    "Delta_SCF = 0"
   ]
  },
  {
   "cell_type": "markdown",
   "metadata": {},
   "source": [
    "The exact one-body integral function is"
   ]
  },
  {
   "cell_type": "code",
   "execution_count": 5,
   "metadata": {},
   "outputs": [],
   "source": [
    "def analytical_1(p,q):\n",
    "    I = 3*ALPHA[p-1]*ALPHA[q-1]*np.pi**(1.5)/(ALPHA[p-1] + ALPHA[q-1])**(5/2) - 4*np.pi/(ALPHA[p-1] + ALPHA[q-1])\n",
    "    \n",
    "    return I"
   ]
  },
  {
   "cell_type": "markdown",
   "metadata": {},
   "source": [
    "The exact two-body integral function is"
   ]
  },
  {
   "cell_type": "code",
   "execution_count": null,
   "metadata": {},
   "outputs": [],
   "source": [
    "def analytical_2(p, r, q, s):\n",
    "    I = 2*np.pi**2.5 / ((ALPHA[p-1] + ALPHA[q-1])*(ALPHA[r-1] + ALPHA[s-1])*np.sqrt((ALPHA[p-1] + bs.ALPHA[q-1] + bs.ALPHA[r-1] + bs.ALPHA[s-1])))\n",
    "    \n",
    "    return I"
   ]
  },
  {
   "cell_type": "markdown",
   "metadata": {},
   "source": [
    "The covariance function for the exponents of the gaussians is"
   ]
  },
  {
   "cell_type": "code",
   "execution_count": 6,
   "metadata": {},
   "outputs": [],
   "source": [
    "def f_cov(p, r, q, s):\n",
    "    cov = 0.5*np.diag([1/(ALPHA[p-1] + ALPHA[q-1])]*3 + [1/(ALPHA[r-1] + ALPHA[s-1])]*3)\n",
    "    \n",
    "    return cov"
   ]
  },
  {
   "cell_type": "markdown",
   "metadata": {},
   "source": [
    "We then calculate and store the one- and two-body integrals using lib.py"
   ]
  },
  {
   "cell_type": "code",
   "execution_count": 7,
   "metadata": {},
   "outputs": [],
   "source": [
    "# One- and Two-body integrals\n",
    "MC_args = {\"f_cov\":f_cov, \"f_integrand\":He_two_body_integrand, \"N_points\":N_points}\n",
    "integrals = lib.integral_master(N_basis)\n",
    "integrals.calculate(integrals_file, analytical_1, analytical_2 = None, MC_args = MC_args)"
   ]
  },
  {
   "cell_type": "markdown",
   "metadata": {},
   "source": [
    "We calculate the overlap matrix S"
   ]
  },
  {
   "cell_type": "code",
   "execution_count": 8,
   "metadata": {},
   "outputs": [
    {
     "name": "stdout",
     "output_type": "stream",
     "text": [
      "S [[1.20975063e+01 2.91187719e+00 3.71330014e-01 2.30637530e-02]\n",
      " [2.91187719e+00 1.42134692e+00 2.99025043e-01 2.22459699e-02]\n",
      " [3.71330014e-01 2.99025043e-01 1.41564997e-01 1.89120383e-02]\n",
      " [2.30637530e-02 2.22459699e-02 1.89120383e-02 8.24921040e-03]]\n"
     ]
    }
   ],
   "source": [
    "if not normalized_wf:\n",
    "    S = np.zeros((4,4))\n",
    "    for p in range(4):\n",
    "        for q in range(4):\n",
    "            S[p][q] = (np.pi/(ALPHA[p]+ALPHA[q]))**(1.5)\n",
    "    SVAL, SVEC = np.linalg.eigh(S) \n",
    "    SVAL_minhalf = (np.diag(SVAL**(-0.5))) \n",
    "    X = np.dot(SVEC, np.dot(SVAL_minhalf, np.transpose(SVEC)))\n",
    "else:\n",
    "    S = np.eye(N_basis)\n",
    "print('S',S)"
   ]
  },
  {
   "cell_type": "markdown",
   "metadata": {},
   "source": [
    "Finally, we run the Self-Consistent Field for Hartree Fock"
   ]
  },
  {
   "cell_type": "code",
   "execution_count": 9,
   "metadata": {},
   "outputs": [
    {
     "name": "stdout",
     "output_type": "stream",
     "text": [
      "E = -2.9732723 | N(SCF) = 1\n",
      "E = -2.7378280 | N(SCF) = 2\n",
      "E = -2.6864367 | N(SCF) = 3\n",
      "E = -3.0502008 | N(SCF) = 4\n",
      "E = -2.6385174 | N(SCF) = 5\n",
      "E = -2.7837368 | N(SCF) = 6\n",
      "E = -2.8054308 | N(SCF) = 7\n",
      "E = -2.8419393 | N(SCF) = 8\n",
      "E = -2.8810679 | N(SCF) = 9\n",
      "E = -2.8512993 | N(SCF) = 10\n",
      "E = -2.8529574 | N(SCF) = 11\n",
      "E = -2.8633082 | N(SCF) = 12\n",
      "E = -2.8565706 | N(SCF) = 13\n",
      "E = -2.8562824 | N(SCF) = 14\n",
      "E = -2.8541830 | N(SCF) = 15\n",
      "E = -2.8582005 | N(SCF) = 16\n",
      "E = -2.8418063 | N(SCF) = 17\n",
      "E = -2.8642998 | N(SCF) = 18\n",
      "E = -2.8532264 | N(SCF) = 19\n",
      "E = -2.8573899 | N(SCF) = 20\n",
      "E = -2.8546075 | N(SCF) = 21\n",
      "E = -2.8549124 | N(SCF) = 22\n",
      "E = -2.8560591 | N(SCF) = 23\n",
      "E = -2.8530188 | N(SCF) = 24\n",
      "E = -2.8633623 | N(SCF) = 25\n",
      "E = -2.8415393 | N(SCF) = 26\n",
      "E = -2.8710185 | N(SCF) = 27\n",
      "E = -2.8127260 | N(SCF) = 28\n",
      "E = -2.8835870 | N(SCF) = 29\n",
      "E = -2.7307418 | N(SCF) = 30\n",
      "E = -2.9284125 | N(SCF) = 31\n",
      "E = -2.6060496 | N(SCF) = 32\n",
      "E = -2.8232118 | N(SCF) = 33\n",
      "E = -2.8565588 | N(SCF) = 34\n",
      "E = -2.8252685 | N(SCF) = 35\n",
      "E = -2.8852540 | N(SCF) = 36\n",
      "E = -2.8763761 | N(SCF) = 37\n",
      "E = -2.8508672 | N(SCF) = 38\n",
      "E = -2.8549653 | N(SCF) = 39\n",
      "E = -2.8695712 | N(SCF) = 40\n",
      "E = -2.7839607 | N(SCF) = 41\n",
      "E = -2.9156038 | N(SCF) = 42\n",
      "E = -2.6561369 | N(SCF) = 43\n",
      "E = -2.8274919 | N(SCF) = 44\n",
      "E = -2.8259258 | N(SCF) = 45\n",
      "E = -2.9102647 | N(SCF) = 46\n",
      "E = -2.8541510 | N(SCF) = 47\n",
      "E = -2.8590427 | N(SCF) = 48\n",
      "E = -2.8535529 | N(SCF) = 49\n",
      "E = -2.8549205 | N(SCF) = 50\n",
      "E = -2.8574163 | N(SCF) = 51\n",
      "E = -2.8561376 | N(SCF) = 52\n",
      "E = -2.8549949 | N(SCF) = 53\n",
      "E = -2.8535433 | N(SCF) = 54\n",
      "E = -2.8594423 | N(SCF) = 55\n",
      "E = -2.8364128 | N(SCF) = 56\n",
      "E = -2.8654779 | N(SCF) = 57\n",
      "E = -2.8543964 | N(SCF) = 58\n",
      "E = -2.8560622 | N(SCF) = 59\n",
      "E = -2.8543891 | N(SCF) = 60\n",
      "E = -2.8577192 | N(SCF) = 61\n",
      "E = -2.8538753 | N(SCF) = 62\n",
      "E = -2.8552898 | N(SCF) = 63\n",
      "E = -2.8550990 | N(SCF) = 64\n",
      "E = -2.8554708 | N(SCF) = 65\n",
      "E = -2.8548688 | N(SCF) = 66\n",
      "E = -2.8555982 | N(SCF) = 67\n",
      "E = -2.8539643 | N(SCF) = 68\n",
      "E = -2.8554403 | N(SCF) = 69\n",
      "E = -2.8563284 | N(SCF) = 70\n",
      "E = -2.8522674 | N(SCF) = 71\n",
      "E = -2.8648572 | N(SCF) = 72\n",
      "E = -2.8449710 | N(SCF) = 73\n",
      "E = -2.8552121 | N(SCF) = 74\n",
      "E = -2.8578817 | N(SCF) = 75\n",
      "E = -2.8537104 | N(SCF) = 76\n",
      "E = -2.8549761 | N(SCF) = 77\n",
      "E = -2.8548815 | N(SCF) = 78\n",
      "E = -2.8563467 | N(SCF) = 79\n",
      "E = -2.8528742 | N(SCF) = 80\n",
      "E = -2.8561504 | N(SCF) = 81\n",
      "E = -2.8573695 | N(SCF) = 82\n",
      "E = -2.8495551 | N(SCF) = 83\n",
      "E = -2.8716810 | N(SCF) = 84\n",
      "E = -2.7796974 | N(SCF) = 85\n",
      "E = -2.8454806 | N(SCF) = 86\n",
      "E = -2.8382171 | N(SCF) = 87\n",
      "E = -2.8556021 | N(SCF) = 88\n",
      "E = -2.9018372 | N(SCF) = 89\n",
      "E = -2.8122779 | N(SCF) = 90\n",
      "E = -2.8672435 | N(SCF) = 91\n",
      "E = -2.8419708 | N(SCF) = 92\n",
      "E = -2.8527394 | N(SCF) = 93\n",
      "E = -2.8714694 | N(SCF) = 94\n",
      "E = -2.8242709 | N(SCF) = 95\n",
      "E = -2.8974999 | N(SCF) = 96\n",
      "E = -2.6580883 | N(SCF) = 97\n",
      "E = -2.7880677 | N(SCF) = 98\n",
      "E = -2.9965144 | N(SCF) = 99\n",
      "E = -2.6615743 | N(SCF) = 100\n",
      "E = -2.8129500 | N(SCF) = 101\n",
      "E = -2.9315400 | N(SCF) = 102\n",
      "E = -2.8112342 | N(SCF) = 103\n",
      "E = -2.8718904 | N(SCF) = 104\n",
      "E = -2.8378230 | N(SCF) = 105\n",
      "E = -2.8666325 | N(SCF) = 106\n",
      "E = -2.8579008 | N(SCF) = 107\n",
      "E = -2.8572875 | N(SCF) = 108\n",
      "E = -2.8537554 | N(SCF) = 109\n",
      "E = -2.8531023 | N(SCF) = 110\n",
      "E = -2.8618920 | N(SCF) = 111\n",
      "E = -2.8503100 | N(SCF) = 112\n",
      "E = -2.8546901 | N(SCF) = 113\n",
      "E = -2.8555670 | N(SCF) = 114\n",
      "E = -2.8567775 | N(SCF) = 115\n",
      "E = -2.8508091 | N(SCF) = 116\n",
      "E = -2.8604713 | N(SCF) = 117\n",
      "E = -2.8402797 | N(SCF) = 118\n",
      "E = -2.8988878 | N(SCF) = 119\n",
      "E = -2.8159109 | N(SCF) = 120\n",
      "E = -2.8079990 | N(SCF) = 121\n",
      "E = -2.8434924 | N(SCF) = 122\n",
      "E = -2.8946414 | N(SCF) = 123\n",
      "E = -2.7937646 | N(SCF) = 124\n",
      "E = -2.9011856 | N(SCF) = 125\n",
      "E = -2.7837512 | N(SCF) = 126\n",
      "E = -2.8174155 | N(SCF) = 127\n",
      "E = -2.8061168 | N(SCF) = 128\n",
      "E = -2.8685707 | N(SCF) = 129\n",
      "E = -2.8430996 | N(SCF) = 130\n",
      "E = -2.8479948 | N(SCF) = 131\n",
      "E = -2.8534048 | N(SCF) = 132\n",
      "E = -2.8488713 | N(SCF) = 133\n",
      "E = -2.8474588 | N(SCF) = 134\n",
      "E = -2.8508824 | N(SCF) = 135\n",
      "E = -2.8522714 | N(SCF) = 136\n",
      "E = -2.8546251 | N(SCF) = 137\n",
      "E = -2.8554953 | N(SCF) = 138\n",
      "E = -2.8546902 | N(SCF) = 139\n",
      "E = -2.8577591 | N(SCF) = 140\n",
      "E = -2.8555363 | N(SCF) = 141\n",
      "E = -2.8553184 | N(SCF) = 142\n",
      "E = -2.8551628 | N(SCF) = 143\n",
      "E = -2.8551605 | N(SCF) = 144\n",
      "E = -2.8551495 | N(SCF) = 145\n",
      "E = -2.8552075 | N(SCF) = 146\n",
      "E = -2.8551334 | N(SCF) = 147\n",
      "E = -2.8551491 | N(SCF) = 148\n",
      "E = -2.8551760 | N(SCF) = 149\n",
      "E = -2.8551462 | N(SCF) = 150\n",
      "E = -2.8551461 | N(SCF) = 151\n",
      "E = -2.8551565 | N(SCF) = 152\n",
      "SCF CONVERGED! E = -2.8551565297\n"
     ]
    }
   ],
   "source": [
    "lib.SCF(N_electrons, integrals, S, max_iter_SCF, eps_SCF)"
   ]
  },
  {
   "cell_type": "code",
   "execution_count": null,
   "metadata": {},
   "outputs": [],
   "source": []
  }
 ],
 "metadata": {
  "kernelspec": {
   "display_name": "Python 3",
   "language": "python",
   "name": "python3"
  },
  "language_info": {
   "codemirror_mode": {
    "name": "ipython",
    "version": 3
   },
   "file_extension": ".py",
   "mimetype": "text/x-python",
   "name": "python",
   "nbconvert_exporter": "python",
   "pygments_lexer": "ipython3",
   "version": "3.8.8"
  },
  "latex_envs": {
   "LaTeX_envs_menu_present": true,
   "autoclose": false,
   "autocomplete": true,
   "bibliofile": "biblio.bib",
   "cite_by": "apalike",
   "current_citInitial": 1,
   "eqLabelWithNumbers": true,
   "eqNumInitial": 1,
   "hotkeys": {
    "equation": "Ctrl-E",
    "itemize": "Ctrl-I"
   },
   "labels_anchors": false,
   "latex_user_defs": false,
   "report_style_numbering": false,
   "user_envs_cfg": false
  }
 },
 "nbformat": 4,
 "nbformat_minor": 2
}
