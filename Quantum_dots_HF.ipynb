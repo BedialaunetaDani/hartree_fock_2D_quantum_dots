{
 "cells": [
  {
   "cell_type": "code",
   "execution_count": 1,
   "metadata": {},
   "outputs": [],
   "source": [
    "import lib\n",
    "import numpy as np\n",
    "from scipy import special\n",
    "import os"
   ]
  },
  {
   "cell_type": "markdown",
   "metadata": {},
   "source": [
    "# Hartree Fock computation of the ground state of Quantum Dots\n",
    "\n",
    "In this Jupyter Notebook we are going to study the groundstate of an N electron Quantum Dot. Our intention is to study how the chemical potential has jumps when shells are added (1s,2s2p). In both cases, the Self-Consistent Field method is used.\n",
    "\n",
    "### Basis functions\n",
    "First we write the basis we are going to use, i.e., the 3D eigenfunctions of the harmonic oscillator."
   ]
  },
  {
   "cell_type": "code",
   "execution_count": 2,
   "metadata": {},
   "outputs": [],
   "source": [
    "lz = 0.5\n",
    "lx = 0.75\n",
    "\n",
    "OMEGA_X = 1/lx**2\n",
    "OMEGA_Z = 1/lz**2\n",
    "\n",
    "def Hermite_pol(x, n):\n",
    "    \"\"\"\n",
    "    Evaluates the Hermite polynomial of order n at x.\n",
    "\n",
    "    Parameters\n",
    "    ==========\n",
    "    x : float or np.ndarray\n",
    "        Values in which to evaluate the Hermite polynomial\n",
    "    n : int\n",
    "        Oder of the Hermite polynomial\n",
    "\n",
    "    Returns\n",
    "    =======\n",
    "    float or np.ndarray\n",
    "    \"\"\"\n",
    "    return special.eval_hermite(n, x)\n",
    "\n",
    "def HO_wf(x, n, omega=OMEGA_X):\n",
    "    \"\"\"\n",
    "    Evaluates the n^th eigenfunction of the Harmonic Oscillator at x.\n",
    "    The units of x are sqrt(hbar/m*omega). \n",
    "\n",
    "    Parameters\n",
    "    ==========\n",
    "    x : float or np.ndarray(N)\n",
    "        Values in which to evaluate eigenfunction\n",
    "    n : int\n",
    "        Number of the eigenfunction\n",
    "    omega : float\n",
    "        Angular frequency of the Harmonic Oscillator\n",
    "\n",
    "    Returns\n",
    "    =======\n",
    "    float or np.ndarray(N)\n",
    "    \"\"\"\n",
    "    #return omega**0.25 * Hermite_pol(np.sqrt(omega)*x, n) * np.exp(-omega*x**2 / 2) / np.sqrt(2**n * np.math.factorial(n) * np.sqrt(np.pi))\n",
    "    return omega**0.25 * Hermite_pol(np.sqrt(omega)*x, n) / np.sqrt(2**n * np.math.factorial(n) * np.sqrt(np.pi))\n",
    "\n",
    "def HO_wf_3D(x, y, z, nx, ny, nz, omega_x=OMEGA_X, omega_y=OMEGA_X, omega_z=OMEGA_Z):\n",
    "    \"\"\"\n",
    "    Evaluates the n^th eigenfunction of the (anisotropic) Harmonic Oscillator at x,y,z.\n",
    "    The units of x,y,z are sqrt(hbar/m*omega). \n",
    "\n",
    "    Parameters\n",
    "    ==========\n",
    "    x, y, z : float or np.ndarray(N)\n",
    "        Position in which to evaluate the wave function\n",
    "    nx, ny, nz : int\n",
    "        Number of the eigenfunction for each cartesian coordinate\n",
    "    omega_x, omega_y, omega_z : float\n",
    "        Harmonic osciallation constant for each cartesian coordinate\n",
    "\n",
    "    Returns\n",
    "    =======\n",
    "    float or np.ndarray(N)\n",
    "    \"\"\"\n",
    "    return HO_wf(x, nx, omega=omega_x)*HO_wf(y, ny, omega=omega_y)*HO_wf(z, nz, omega=omega_z)\n",
    "\n",
    "def index_to_q_numbers(k):\n",
    "    \"\"\"\n",
    "    Returns the quantum numbers nx, ny, nz associated with the basis index k\n",
    "\n",
    "    Parameters\n",
    "    ----------\n",
    "    k: int\n",
    "        Index of the basis from 0 to 13\n",
    "\n",
    "    Returns\n",
    "    ----------\n",
    "    nz ,ny, nz : int \n",
    "        Quantum numbers\n",
    "    \"\"\"\n",
    "\n",
    "    q_numbers = np.array([(0,0,0),(0,0,1),(0,1,0),(1,0,0),(0,1,1),(1,0,1),(1,1,0),(1,1,1),(1,1,2),(1,2,1),(2,1,1),(1,2,2),(2,1,2),(2,2,1)])\n",
    "\n",
    "    return q_numbers[k]"
   ]
  },
  {
   "cell_type": "markdown",
   "metadata": {},
   "source": [
    "We now write the functions to calculate the integrands of the two-body integrals"
   ]
  },
  {
   "cell_type": "code",
   "execution_count": 3,
   "metadata": {},
   "outputs": [],
   "source": [
    "def integrand_2(R, p, r, q, s):\n",
    "    r1 = R[:,0:3]\n",
    "    r2 = R[:,3:6]\n",
    "    r12 = np.sqrt(np.sum((r1 - r2)**2, axis=-1))\n",
    "    \n",
    "    x1 = R[:,0]\n",
    "    y1 = R[:,1]\n",
    "    z1 = R[:,2]\n",
    "    x2 = R[:,3]\n",
    "    y2 = R[:,4]\n",
    "    z2 = R[:,5]\n",
    "    \n",
    "    n_p = index_to_q_numbers(p-1)\n",
    "    n_r = index_to_q_numbers(r-1)\n",
    "    n_q = index_to_q_numbers(q-1)\n",
    "    n_s = index_to_q_numbers(s-1)\n",
    "    \n",
    "    result = 1/r12\n",
    "    \n",
    "    result *= HO_wf_3D(x1, y1, z1, n_p[0], n_p[1], n_p[2])\n",
    "    result *= HO_wf_3D(x2, y2, z2, n_r[0], n_r[1], n_r[2])\n",
    "    result *= HO_wf_3D(x1, y1, z1, n_q[0], n_q[1], n_q[2])\n",
    "    result *= HO_wf_3D(x2, y2, z2, n_s[0], n_s[1], n_s[2])\n",
    "  \n",
    "    \n",
    "    return result\n",
    "\n",
    "def norm_product(p, r, q, s):\n",
    "    return (np.pi/OMEGA_X)**2 * np.pi/OMEGA_Z\n",
    "\n",
    "def two_body_integrand(p, r, q, s):\n",
    "    f = lambda R: integrand_2(R, p, r, q, s)*norm_product(p, r, q, s)\n",
    "    \n",
    "    return f"
   ]
  },
  {
   "cell_type": "markdown",
   "metadata": {},
   "source": [
    "### One- and two- body integral computations\n",
    "We first initialize some necessary parameters"
   ]
  },
  {
   "cell_type": "code",
   "execution_count": 17,
   "metadata": {},
   "outputs": [],
   "source": [
    "N_electrons = 2\n",
    "N_basis = 8\n",
    "N_points = 100000\n",
    "integrals_file = \"integrals_QD.npy\"\n",
    "\n",
    "normalized_wf = True\n",
    "\n",
    "max_iter_SCF = 500\n",
    "eps_SCF = 10\n",
    "Delta_SCF = 0"
   ]
  },
  {
   "cell_type": "markdown",
   "metadata": {},
   "source": [
    "The exact one-body integral function is"
   ]
  },
  {
   "cell_type": "code",
   "execution_count": 5,
   "metadata": {},
   "outputs": [],
   "source": [
    "def analytical_1(p,q):\n",
    "    n_p = index_to_q_numbers(p-1)\n",
    "    I = (p==q)*(OMEGA_X*(n_p[0] + n_p[1] + 1) + OMEGA_Z*(n_p[2] + 0.5))\n",
    "    \n",
    "    return I"
   ]
  },
  {
   "cell_type": "markdown",
   "metadata": {},
   "source": [
    "The covariance function for the exponents of the gaussians is"
   ]
  },
  {
   "cell_type": "code",
   "execution_count": 6,
   "metadata": {},
   "outputs": [],
   "source": [
    "def f_cov(p, r, q, s):\n",
    "    \n",
    "    cov = 0.5*np.diag([1/OMEGA_X, 1/OMEGA_X, 1/OMEGA_Z, 1/OMEGA_X, 1/OMEGA_X, 1/OMEGA_Z])\n",
    "    \n",
    "    return cov"
   ]
  },
  {
   "cell_type": "markdown",
   "metadata": {},
   "source": [
    "We then calculate and store the one- and two-body integrals using lib.py"
   ]
  },
  {
   "cell_type": "code",
   "execution_count": 7,
   "metadata": {},
   "outputs": [
    {
     "name": "stdout",
     "output_type": "stream",
     "text": [
      "Integral file already exists. Not computing the integrals. \n"
     ]
    }
   ],
   "source": [
    "# One- and Two-body integrals\n",
    "MC_args = {\"f_cov\":f_cov, \"f_integrand\":two_body_integrand, \"N_points\":N_points}\n",
    "integrals = lib.integral_master(N_basis)\n",
    "integrals.calculate(integrals_file, analytical_1, MC_args = MC_args)"
   ]
  },
  {
   "cell_type": "markdown",
   "metadata": {},
   "source": [
    "We calculate the overlap matrix S"
   ]
  },
  {
   "cell_type": "code",
   "execution_count": 8,
   "metadata": {},
   "outputs": [],
   "source": [
    "if not normalized_wf:\n",
    "    S = np.zeros((4,4))\n",
    "    for p in range(4):\n",
    "        for q in range(4):\n",
    "            S[p][q] = (np.pi/(ALPHA[p]+ALPHA[q]))**(1.5)\n",
    "    SVAL, SVEC = np.linalg.eigh(S) \n",
    "    SVAL_minhalf = (np.diag(SVAL**(-0.5))) \n",
    "    X = np.dot(SVEC, np.dot(SVAL_minhalf, np.transpose(SVEC)))\n",
    "else:\n",
    "    S = np.eye(N_basis)\n",
    "# print('S',S)"
   ]
  },
  {
   "cell_type": "markdown",
   "metadata": {},
   "source": [
    "Finally, we run the Self-Consistent Field for Hartree Fock"
   ]
  },
  {
   "cell_type": "code",
   "execution_count": 16,
   "metadata": {
    "scrolled": true
   },
   "outputs": [
    {
     "name": "stdout",
     "output_type": "stream",
     "text": [
      "E = 6.0444444 | N(SCF) = 1\n",
      "SCF CONVERGED! E = 6.0444444444\n"
     ]
    }
   ],
   "source": [
    "lib.SCF(N_electrons, integrals, S, max_iter_SCF, eps_SCF)"
   ]
  },
  {
   "cell_type": "code",
   "execution_count": 14,
   "metadata": {},
   "outputs": [
    {
     "name": "stdout",
     "output_type": "stream",
     "text": [
      "0.16247090551927373\n",
      "0.16133363777993243\n",
      "0.1545630192515409\n",
      "0.16071213547189636\n",
      "0.15171139753118018\n",
      "0.15790618497393233\n",
      "0.15932009569130196\n",
      "0.15616132551176265\n",
      "0.16023981081168343\n",
      "0.16036522631838035\n"
     ]
    }
   ],
   "source": [
    "\n",
    "# Este bloque habrá que acabar quitándolo\n",
    "cov = f_cov(1,1,2,2)\n",
    "integrand = two_body_integrand(1,1,2,2)\n",
    "\n",
    "N_points = 100000\n",
    "dim = cov.shape[0]\n",
    "for i in range(10):\n",
    "    steps = np.random.multivariate_normal(np.zeros(dim), cov, N_points) \n",
    "\n",
    "    I_avg= np.average(integrand(steps))\n",
    "    #print(norm_product(1,1,1,1))\n",
    "\n",
    "    print(I_avg)\n"
   ]
  },
  {
   "cell_type": "code",
   "execution_count": null,
   "metadata": {},
   "outputs": [],
   "source": []
  },
  {
   "cell_type": "code",
   "execution_count": null,
   "metadata": {},
   "outputs": [],
   "source": []
  }
 ],
 "metadata": {
  "kernelspec": {
   "display_name": "Python 3",
   "language": "python",
   "name": "python3"
  },
  "language_info": {
   "codemirror_mode": {
    "name": "ipython",
    "version": 3
   },
   "file_extension": ".py",
   "mimetype": "text/x-python",
   "name": "python",
   "nbconvert_exporter": "python",
   "pygments_lexer": "ipython3",
   "version": "3.6.6"
  },
  "latex_envs": {
   "LaTeX_envs_menu_present": true,
   "autoclose": false,
   "autocomplete": true,
   "bibliofile": "biblio.bib",
   "cite_by": "apalike",
   "current_citInitial": 1,
   "eqLabelWithNumbers": true,
   "eqNumInitial": 1,
   "hotkeys": {
    "equation": "Ctrl-E",
    "itemize": "Ctrl-I"
   },
   "labels_anchors": false,
   "latex_user_defs": false,
   "report_style_numbering": false,
   "user_envs_cfg": false
  }
 },
 "nbformat": 4,
 "nbformat_minor": 2
}
