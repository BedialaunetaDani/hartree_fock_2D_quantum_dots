{
 "cells": [
  {
   "cell_type": "code",
   "execution_count": 2,
   "id": "2310a17c",
   "metadata": {},
   "outputs": [],
   "source": [
    "import numpy as np"
   ]
  },
  {
   "cell_type": "markdown",
   "id": "3cda1dd0",
   "metadata": {},
   "source": [
    "# Timing for the different functions of the code"
   ]
  },
  {
   "cell_type": "markdown",
   "id": "2cb53ce1",
   "metadata": {},
   "source": [
    "## Hermite polynomials\n",
    "\n",
    "Comparison of the recursive and scipy Hermite polynomials"
   ]
  },
  {
   "cell_type": "code",
   "execution_count": 10,
   "id": "14b61966",
   "metadata": {},
   "outputs": [],
   "source": [
    "from scipy import special\n",
    "\n",
    "def hermite_pol_recursive(x, n):\n",
    "    if n == 0:\n",
    "        return 1\n",
    "    elif n == 1:\n",
    "        return 2*x\n",
    "    else:\n",
    "        return 2*x*hermite_pol_recursive(x, n-1) - 2*(n - 1)*hermite_pol_recursive(x, n-2)\n",
    "\n",
    "def hermite_pol_scipy_1(x, n):\n",
    "    H = special.hermite(n)\n",
    "    return H(x)\n",
    "\n",
    "def hermite_pol_scipy_2(x, n):\n",
    "    return special.eval_hermite(n, x)"
   ]
  },
  {
   "cell_type": "code",
   "execution_count": 11,
   "id": "51ca5c14",
   "metadata": {},
   "outputs": [
    {
     "name": "stdout",
     "output_type": "stream",
     "text": [
      "Recursive Hermite polynomials\n",
      "6.65 µs ± 90.4 ns per loop (mean ± std. dev. of 7 runs, 100000 loops each)\n",
      "247 µs ± 1.07 µs per loop (mean ± std. dev. of 7 runs, 1000 loops each)\n",
      "3.12 ms ± 17.6 µs per loop (mean ± std. dev. of 7 runs, 100 loops each)\n",
      "Scipy Hermite polynomials (option 1)\n",
      "454 µs ± 4.68 µs per loop (mean ± std. dev. of 7 runs, 1000 loops each)\n",
      "543 µs ± 2.45 µs per loop (mean ± std. dev. of 7 runs, 1000 loops each)\n",
      "680 µs ± 2.45 µs per loop (mean ± std. dev. of 7 runs, 1000 loops each)\n",
      "Scipy Hermite polynomials (option 2)\n",
      "289 µs ± 2.07 µs per loop (mean ± std. dev. of 7 runs, 1000 loops each)\n",
      "330 µs ± 422 ns per loop (mean ± std. dev. of 7 runs, 1000 loops each)\n",
      "431 µs ± 648 ns per loop (mean ± std. dev. of 7 runs, 1000 loops each)\n"
     ]
    }
   ],
   "source": [
    "N = 10000\n",
    "x = np.linspace(-10, 10, N)\n",
    "\n",
    "print(\"Recursive Hermite polynomials\")\n",
    "%timeit hermite_pol_recursive(x, 1)\n",
    "%timeit hermite_pol_recursive(x, 5)\n",
    "%timeit hermite_pol_recursive(x, 10)\n",
    "\n",
    "print(\"Scipy Hermite polynomials (option 1)\")\n",
    "%timeit hermite_pol_scipy_1(x, 1)\n",
    "%timeit hermite_pol_scipy_1(x, 5)\n",
    "%timeit hermite_pol_scipy_1(x, 10)\n",
    "\n",
    "print(\"Scipy Hermite polynomials (option 2)\")\n",
    "%timeit hermite_pol_scipy_2(x, 1)\n",
    "%timeit hermite_pol_scipy_2(x, 5)\n",
    "%timeit hermite_pol_scipy_2(x, 10)"
   ]
  }
 ],
 "metadata": {
  "kernelspec": {
   "display_name": "Python 3",
   "language": "python",
   "name": "python3"
  },
  "language_info": {
   "codemirror_mode": {
    "name": "ipython",
    "version": 3
   },
   "file_extension": ".py",
   "mimetype": "text/x-python",
   "name": "python",
   "nbconvert_exporter": "python",
   "pygments_lexer": "ipython3",
   "version": "3.7.7"
  }
 },
 "nbformat": 4,
 "nbformat_minor": 5
}
